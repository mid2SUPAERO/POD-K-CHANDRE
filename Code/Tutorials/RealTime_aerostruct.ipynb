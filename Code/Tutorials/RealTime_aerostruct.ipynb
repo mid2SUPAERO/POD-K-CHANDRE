{
 "cells": [
  {
   "cell_type": "markdown",
   "metadata": {},
   "source": [
    "# Real Time Parametrized Aeroelastic Problem\n",
    "## Author: Oriol CHANDRE VILA\n",
    "## Tutors: Sylvain DUBREUIL (ONERA) et Joseph MORLIER (ISAE-SUPAERO)\n",
    "### Internship in ONERA, within the Department of Systems and Information Treatment (DTIS).\n",
    "\n",
    "The title of the internship is _Separated variables representation for the exploration of the Parametrized solution_. The methodology applied is based in an Offline-Online process, using an approach Greedy+POD for the phase offline and a Kriging interpolation in order to solve really fast cases in the Online phase (or real time phase).\n",
    "\n",
    "This methodology has been applied to ONERA's code __aero_struct__ which computes the aeroelastic problem for a aircraft wing, type Airbus."
   ]
  },
  {
   "cell_type": "markdown",
   "metadata": {},
   "source": [
    "## I- OFFLINE PHASE\n",
    "This program aims to use the POD-ROM to create a reduced basis able to be used in a real-time application.\n",
    "It is applied to an aeroelastic problem. A Greedy algorithm has been used to introduced a POD based on \n",
    "the snapshots method combined with the Singular Value Decomposition (SVD).\n",
    "Using version 3.0.6 of GMSH."
   ]
  },
  {
   "cell_type": "code",
   "execution_count": null,
   "metadata": {},
   "outputs": [],
   "source": [
    "import numpy as np\n",
    "from scipy import linalg\n",
    "from pyDOE import lhs\n",
    "import functions_Offline as foff\n",
    "import timeit\n",
    "from sklearn.externals import joblib\n",
    "from gaussian_process import GaussianProcess"
   ]
  },
  {
   "cell_type": "markdown",
   "metadata": {},
   "source": [
    "### PARAMETERS BOUNDS: h_skins, h_ribs, h_spars_le, h_spars_te, b, S\n",
    "h_* = thickness of different parts (m)\n",
    "\n",
    "b = wing span (m)\n",
    "\n",
    "S = wing surface (m^2)\n",
    "\n",
    "- This parameters are the ones chosen to vary in our problem."
   ]
  },
  {
   "cell_type": "code",
   "execution_count": null,
   "metadata": {},
   "outputs": [],
   "source": [
    "pMin_i = np.array([0.028,0.009,0.017,0.009,64.75,443.56])\n",
    "pMax_i = np.array([0.031,0.015,0.025,0.015,75.65,500.21])\n",
    "pMin = np.zeros((6,1))\n",
    "pMin[:,0]= pMin_i[:]\n",
    "pMax = np.zeros((6,1))\n",
    "pMax[:,0]= pMax_i[:]\n",
    "np.save(\"../results/Offline/pMin\",pMin)\n",
    "np.save(\"../results/Offline/pMax\",pMax)"
   ]
  },
  {
   "cell_type": "markdown",
   "metadata": {},
   "source": [
    "### OTHERS PARAMETERS OF INTEREST\n",
    "alpha = angle of attack (°)\n",
    "\n",
    "M_inf = Mach number\n",
    "\n",
    "E = Young modulus (Pa)\n",
    "\n",
    "nu = Poisson's ratio\n",
    "\n",
    "BF = distance of the fuselage over the wing (m)\n",
    "\n",
    "phi_d = sweep angle (°)\n",
    "\n",
    "diedre_d = dihedral angle (°)\n",
    "\n",
    "n_ribs_1 = number of ribs (first sector)\n",
    "\n",
    "n_ribs_2 = number of ribs (second sector)\n",
    "\n",
    "- This parameters are needed to define the geometry and material of the wing"
   ]
  },
  {
   "cell_type": "code",
   "execution_count": null,
   "metadata": {},
   "outputs": [],
   "source": [
    "alpha = 2.5 \n",
    "M_inf = 0.85\n",
    "E = 70.*1e9\n",
    "nu = 0.3\n",
    "BF = 5.96\n",
    "phi_d = 30.\n",
    "diedre_d = 1.5\n",
    "n_ribs_1 =  8\n",
    "n_ribs_2 =  12"
   ]
  },
  {
   "cell_type": "markdown",
   "metadata": {},
   "source": [
    "## FIXED PARAMETERS (Flight Altitude = 11000 meters)\n",
    "rho = density at 11000 meters (kg/m^3)\n",
    "\n",
    "Pressure = pressure at 11000 meters (Pa)\n",
    "\n",
    "adiabatic_i = adiabatic index of air\n",
    "\n",
    "a_speed = speed of sound at 11000 meters (m/s)\n",
    "\n",
    "phi = sweep angle (rad)\n",
    "\n",
    "diedre = dihedral angle (rad)"
   ]
  },
  {
   "cell_type": "code",
   "execution_count": null,
   "metadata": {},
   "outputs": [],
   "source": [
    "rho = 0.3629\n",
    "Pressure = 22552.\n",
    "adiabiatic_i = 1.4\n",
    "a_speed = np.sqrt(adiabiatic_i*Pressure/rho)\n",
    "v_inf = M_inf*a_speed\n",
    "phi = phi_d*np.pi/180.\n",
    "diedre = diedre_d*np.pi/180."
   ]
  },
  {
   "cell_type": "markdown",
   "metadata": {},
   "source": [
    "Creation of the mesh files: VLM and FEM"
   ]
  },
  {
   "cell_type": "code",
   "execution_count": null,
   "metadata": {},
   "outputs": [],
   "source": [
    "foff.create_mesh_files(n_ribs_1,n_ribs_2)"
   ]
  },
  {
   "cell_type": "markdown",
   "metadata": {},
   "source": [
    "Initialisation of the problem"
   ]
  },
  {
   "cell_type": "code",
   "execution_count": null,
   "metadata": {},
   "outputs": [],
   "source": [
    "param_data = np.zeros(9)\n",
    "param_data[0] = alpha\n",
    "param_data[1] = v_inf\n",
    "param_data[2] = rho\n",
    "param_data[3] = E\n",
    "param_data[4] = nu"
   ]
  },
  {
   "cell_type": "markdown",
   "metadata": {},
   "source": [
    "### GREEDY ALGORITHM"
   ]
  },
  {
   "cell_type": "code",
   "execution_count": null,
   "metadata": {},
   "outputs": [],
   "source": [
    "tic = timeit.default_timer()\n",
    "\n",
    "# 0) Initialization\n",
    "nSamples = 3\n",
    "nIterations = nSamples-1\n",
    "nCandidates = 5\n",
    "nParam = len(pMin)\n",
    "pCandidate = np.dot(pMin,np.ones((1,nCandidates))) + lhs(nParam,nCandidates).T*np.dot((pMax-pMin),np.ones((1,nCandidates)))\n",
    "indexCand = np.zeros((nCandidates,), dtype=int)\n",
    "for i in range(nCandidates):\n",
    "    indexCand[i] = i\n",
    "pCandMax = np.zeros((nParam,nSamples))\n",
    "\n",
    "# 1) Ramdomly select a first sample (in the middle of the domain)\n",
    "pMiddle = (pMin+pMax)/2\n",
    "param_data[5] = pMiddle[0,0]\n",
    "param_data[6] = pMiddle[1,0]\n",
    "param_data[7] = pMiddle[2,0]\n",
    "param_data[8] = pMiddle[3,0]\n",
    "b = pMiddle[4,0]\n",
    "S = pMiddle[5,0]\n",
    "pCandMax[:,0] = pMiddle[:,0]\n",
    "# Calculating the number of nodes and initialization of samples matrices\n",
    "n_VLM_nodes, n_FEM_nodes, n_gamma_nodes = foff.calcule_nodes(param_data)\n",
    "uSamples = np.zeros((n_FEM_nodes*6,nSamples)) # POD displacement\n",
    "gSamples = np.zeros((n_gamma_nodes,nSamples)) # POD circulation\n",
    "\n",
    "# 2) Solving HDM-based problem\n",
    "print \"Greedy Iteration num.: 0\\n\",\n",
    "uMiddle,gMiddle = foff.run_aerostruct(param_data,b,S,phi,diedre,BF,Mach=M_inf)\n",
    "uSamples[:,0] = uMiddle\n",
    "gSamples[:,0] = gMiddle\n",
    "\n",
    "# 3) Building the ROB\n",
    "uV,_,_ = linalg.svd(uSamples,full_matrices=False)\n",
    "gV,_,_ = linalg.svd(gSamples,full_matrices=False)\n",
    "uV_tr = np.transpose(uV)\n",
    "gV_tr = np.transpose(gV)\n",
    "\n",
    "# 4) Iteration loop\n",
    "for iIteration in range(nIterations):\n",
    "    print \"Greedy Iteration num.: \",iIteration+1\n",
    "    \n",
    "    # 5) Solve argmax(residual)\n",
    "    maxError = 0.\n",
    "    candidateMaxError = 0\n",
    "    for iCandidate in indexCand:\n",
    "        # 5a) Loading candidates information\n",
    "        param_data[5] = pCandidate[0,iCandidate]\n",
    "        param_data[6] = pCandidate[1,iCandidate]\n",
    "        param_data[7] = pCandidate[2,iCandidate]\n",
    "        param_data[8] = pCandidate[3,iCandidate]\n",
    "        b = pCandidate[4,iCandidate]\n",
    "        S = pCandidate[5,iCandidate]\n",
    "        A, B = foff.VLM_params(param_data,b,S,phi,diedre,BF,Mach=M_inf)\n",
    "        Ar = np.dot(np.dot(gV_tr,A),gV)\n",
    "        Br = np.dot(gV_tr,B)\n",
    "        Ar_lu = linalg.lu_factor(Ar)\n",
    "        gr = linalg.lu_solve(Ar_lu,-Br)\n",
    "        g_exp = np.dot(gV,gr)\n",
    "        F_s = foff.get_Fs(g_exp,param_data)\n",
    "        K, Fs = foff.get_FEM(param_data,F_s)\n",
    "        Kr = np.dot(np.dot(uV_tr,K),uV)\n",
    "        Fr = np.dot(uV_tr,Fs)\n",
    "        q = linalg.solve(Kr,Fr)\n",
    "        # 5b) Compute error indicator\n",
    "        Y1 = np.dot(K,np.dot(uV,q))- Fs\n",
    "        errorIndicator = np.dot(np.transpose(Y1),Y1)\n",
    "        if (iCandidate == 0 or maxError < errorIndicator):\n",
    "            candidateMaxError = iCandidate\n",
    "            maxError = errorIndicator\n",
    "            \n",
    "    # 6) Solving HDM-based problem for the candidate with the highest error indicator\n",
    "    param_data[5] = pCandidate[0,candidateMaxError]\n",
    "    param_data[6] = pCandidate[1,candidateMaxError]\n",
    "    param_data[7] = pCandidate[2,candidateMaxError]\n",
    "    param_data[8] = pCandidate[3,candidateMaxError]\n",
    "    b = pCandidate[4,candidateMaxError]\n",
    "    S = pCandidate[5,candidateMaxError]\n",
    "    pCandMax[:,iIteration+1] = pCandidate[:,candidateMaxError]\n",
    "    uIter,gIter = foff.run_aerostruct(param_data,b,S,phi,diedre,BF,Mach=M_inf)\n",
    "    uSamples[:,iIteration+1] = uIter\n",
    "    gSamples[:,iIteration+1] = gIter\n",
    "    \n",
    "    # 7) Building the ROB\n",
    "    uV,_,_ = linalg.svd(uSamples[:,0:iIteration+2],full_matrices=False)\n",
    "    gV,_,_ = linalg.svd(gSamples[:,0:iIteration+2],full_matrices=False)\n",
    "    uV_tr = np.transpose(uV)\n",
    "    gV_tr = np.transpose(gV)\n",
    "    ##UPDATING indexCand: The current index must be removed!\n",
    "    xC = 0\n",
    "    while True:\n",
    "        if indexCand[xC] == candidateMaxError:\n",
    "            break\n",
    "        xC += 1\n",
    "    indexCand = np.delete(indexCand,xC)\n",
    "\n",
    "toc = timeit.default_timer()\n",
    "print(\"TOTAL COMPUTATION TIME: \"+str((toc-tic)/60.)+\" min\")"
   ]
  },
  {
   "cell_type": "markdown",
   "metadata": {},
   "source": [
    "### KRIGING"
   ]
  },
  {
   "cell_type": "code",
   "execution_count": null,
   "metadata": {},
   "outputs": [],
   "source": [
    "# Initialization\n",
    "tic = timeit.default_timer()\n",
    "U_comp = uSamples\n",
    "G_comp = gSamples\n",
    "\n",
    "# Weight calculations\n",
    "a_kri = np.zeros((nSamples,nSamples))\n",
    "b_kri = np.zeros((nSamples,nSamples))\n",
    "for i in range(nSamples):\n",
    "    for j in range(nSamples):\n",
    "        a_kri[j,i] = np.dot(U_comp[:,j].T,uV[:,i])\n",
    "        b_kri[j,i] = np.dot(G_comp[:,j].T,gV[:,i])\n",
    "\n",
    "# Trained solution\n",
    "mean = \"constant\"\n",
    "covariance = \"squared_exponential\"\n",
    "theta_U = np.array([100000.0]*6)\n",
    "theta_L = np.array([0.001]*6)\n",
    "theta_0 = np.array([1.0]*6)\n",
    "for i in range(nSamples):\n",
    "    GP_u = GaussianProcess(regr = mean, corr = covariance,theta0 = theta_0,thetaL = theta_L, thetaU = theta_U)\n",
    "    GP_u.fit(pCandMax.T, a_kri[:,i])\n",
    "    GP_g = GaussianProcess(regr = mean, corr = covariance,theta0 = theta_0,thetaL = theta_L, thetaU = theta_U)\n",
    "    GP_g.fit(pCandMax.T, b_kri[:,i])\n",
    "    joblib.dump(GP_u, \"../results/Offline/GP_alpha_\"+str(i)+\".pkl\")\n",
    "    joblib.dump(GP_g, \"../results/Offline/GP_beta_\"+str(i)+\".pkl\")\n",
    "    \n",
    "toc = timeit.default_timer()\n",
    "print(\"KRIGING COMPUTATION TIME: \"+str(toc-tic)+\" s\")"
   ]
  },
  {
   "cell_type": "markdown",
   "metadata": {},
   "source": [
    "## II- ONLINE PHASE\n",
    "Using the data saved within the two Kriging structures, real-time solutions can be computed in a really fast way."
   ]
  },
  {
   "cell_type": "code",
   "execution_count": null,
   "metadata": {},
   "outputs": [],
   "source": [
    "from mesh_deformation_airbus import mesh_deformation_airbus\n",
    "from VLM import VLM_study\n",
    "from FEM import FEM_study\n",
    "import subprocess"
   ]
  },
  {
   "cell_type": "markdown",
   "metadata": {},
   "source": [
    "From the Offline Phase we will use the parameters: _nSamples_, _param data_, _uV_ and _gV_. Besides, the data of the Kriging structures."
   ]
  },
  {
   "cell_type": "markdown",
   "metadata": {},
   "source": [
    "### Definition of the case\n",
    "Here, the user choose the values of his analysis!"
   ]
  },
  {
   "cell_type": "code",
   "execution_count": null,
   "metadata": {},
   "outputs": [],
   "source": [
    "h_skins = 0.028\n",
    "h_ribs = 0.009\n",
    "h_spars_le = 0.017\n",
    "h_spars_te = 0.009\n",
    "b = 64.75\n",
    "S = 443.56"
   ]
  },
  {
   "cell_type": "markdown",
   "metadata": {},
   "source": [
    "Initialisation "
   ]
  },
  {
   "cell_type": "code",
   "execution_count": null,
   "metadata": {},
   "outputs": [],
   "source": [
    "tic = timeit.default_timer()\n",
    "x_conf = np.array([h_skins,h_ribs,h_spars_le,h_spars_te,b,S])\n",
    "pC = np.zeros((6))\n",
    "pC[0] = param_data[5] = h_skins\n",
    "pC[1] = param_data[6] = h_ribs\n",
    "pC[2] = param_data[7] = h_spars_le\n",
    "pC[3] = param_data[8] = h_spars_te\n",
    "pC[4] = b\n",
    "pC[5] = S"
   ]
  },
  {
   "cell_type": "markdown",
   "metadata": {},
   "source": [
    "1) Kriging prediction of the interested point"
   ]
  },
  {
   "cell_type": "code",
   "execution_count": null,
   "metadata": {},
   "outputs": [],
   "source": [
    "u_mp = np.zeros((1,nSamples))\n",
    "u_vp = np.zeros((1,nSamples))\n",
    "gamma_mp = np.zeros((1,nSamples))\n",
    "gamma_vp = np.zeros((1,nSamples))\n",
    "for i in range(nSamples):\n",
    "    # *Loading Kriging data\n",
    "    name_a = joblib.load(\"../results/Offline/GP_alpha_\"+str(i)+\".pkl\")\n",
    "    name_b = joblib.load(\"../results/Offline/GP_beta_\"+str(i)+\".pkl\")\n",
    "    # **Prediction\n",
    "    u_mp[0,i], u_vp[0,i] = name_a.predict(x_conf.reshape((1,6)), eval_MSE=True)\n",
    "    gamma_mp[0,i], gamma_vp[0,i] = name_b.predict(x_conf.reshape((1,6)), eval_MSE=True)\n",
    "u_mean = 0\n",
    "u_var2 = 0\n",
    "gamma_mean = 0\n",
    "gamma_var2 = 0\n",
    "for i in range(nSamples):\n",
    "    u_mean += np.dot(u_mp[0,i],uV[:,i])\n",
    "    u_var2 += np.dot(u_vp[0,i]**2,uV[:,i]**2)\n",
    "    gamma_mean += np.dot(gamma_mp[0,i],gV[:,i])\n",
    "    gamma_var2 += np.dot(gamma_vp[0,i]**2,gV[:,i]**2)"
   ]
  },
  {
   "cell_type": "markdown",
   "metadata": {},
   "source": [
    "2) Calculation of u_est and g_est"
   ]
  },
  {
   "cell_type": "code",
   "execution_count": null,
   "metadata": {},
   "outputs": [],
   "source": [
    "u_est = u_mean\n",
    "u_est1 = u_mean+3.0*np.sqrt(u_var2)\n",
    "u_est2 = u_mean-3.0*np.sqrt(u_var2)\n",
    "g_est = gamma_mean\n",
    "g_est1 = gamma_mean+3.0*np.sqrt(gamma_var2)\n",
    "g_est2 = gamma_mean-3.0*np.sqrt(gamma_var2)\n",
    "toc = timeit.default_timer()\n",
    "print(\"ONLINE COMPUTATION TIME: \"+str(toc-tic)+\" s\")"
   ]
  },
  {
   "cell_type": "markdown",
   "metadata": {},
   "source": [
    "3) Publication of the results: u_est, g_est"
   ]
  },
  {
   "cell_type": "code",
   "execution_count": null,
   "metadata": {},
   "outputs": [],
   "source": [
    "a_new = mesh_deformation_airbus('../mesh/param_wing/VLM_mesh.msh','../mesh/param_wing/FEM_mesh.msh') \n",
    "a_new.new_wing_mesh(b,S)\n",
    "vlm_mesh = '../mesh/param_wing/new_VLM.msh'\n",
    "fem_mesh = '../mesh/param_wing/new_FEM.msh'\n",
    "n_VLM_nodes, n_FEM_nodes, n_gamma_nodes = foff.calcule_nodes(pC)\n",
    "\n",
    "# 3a) Computation of strains and stress\n",
    "element_property,material,element_type = foff.create_dict(param_data)\n",
    "my_fem = FEM_study(fem_mesh,element_type,element_property,material)\n",
    "my_fem.read_mesh_file()\n",
    "strain_dict, stress_dict = my_fem.get_strain_and_stress(u_est)\n",
    "\n",
    "# 3b) u_est\n",
    "my_fem.post_processing(u_est,\"../results/Param_wing/u_est\")\n",
    "my_fem.post_processing_var1(u_est1,\"../results/Param_wing/u_est1\")\n",
    "my_fem.post_processing_var2(u_est2,\"../results/Param_wing/u_est2\")\n",
    "\n",
    "## 3c) Von Mises stress\n",
    "Von_Mises_Stress = my_fem.get_Von_Mises(stress_dict)\n",
    "my_fem.post_processing_Von_Mises(Von_Mises_Stress,'../results/param_wing/result_VM_iter')\n",
    "print(\"Average Von Mises Stress = \"+str(np.mean(Von_Mises_Stress))+\" Pa\")\n",
    "stress_max = 0.\n",
    "stress_max_i = 0\n",
    "for i in range(len(Von_Mises_Stress)):\n",
    "    stress_i = Von_Mises_Stress[i]\n",
    "    if (stress_max < stress_i):\n",
    "        stress_max = stress_i\n",
    "        stress_max_i = i\n",
    "print(\"Node VM max = \"+str(stress_max_i))\n",
    "print(\"Von Mises Stress max = \"+str(Von_Mises_Stress[stress_max_i])+\" Pa\")\n",
    "\n",
    "# 3d) g_est\n",
    "my_vlm = VLM_study(vlm_mesh)\n",
    "my_vlm.post_processing_gamma('Param_wing/g_est',g_est)\n",
    "my_vlm.post_processing_gamma_var1('Param_wing/g_est1',g_est1)\n",
    "my_vlm.post_processing_gamma_var2('Param_wing/g_est2',g_est2)"
   ]
  },
  {
   "cell_type": "markdown",
   "metadata": {},
   "source": [
    "4) Quality of the prediction"
   ]
  },
  {
   "cell_type": "code",
   "execution_count": null,
   "metadata": {},
   "outputs": [],
   "source": [
    "for x in range(len(u_mean)):\n",
    "    if u_mean[x] == 0:\n",
    "        u_mean[x] = 1.*1e-35\n",
    "tau_u = abs(np.sqrt(u_var2)/u_mean)\n",
    "tau_g = abs(np.sqrt(gamma_var2)/gamma_mean)\n",
    "my_fem.post_processing_erreur(tau_u,\"../results/Param_wing/tau_u\")\n",
    "my_vlm.post_processing_erreur('Param_wing/tau_g',tau_g)"
   ]
  },
  {
   "cell_type": "markdown",
   "metadata": {},
   "source": [
    "5) Opening GMSH files"
   ]
  },
  {
   "cell_type": "code",
   "execution_count": null,
   "metadata": {},
   "outputs": [],
   "source": [
    "subprocess.call(['D://gmsh-3.0.6/gmsh','../results/Param_wing/g_est.msh','../results/Param_wing/g_est1.msh','../results/Param_wing/g_est2.msh','../results/Param_wing/tau_g.msh','-open'])\n",
    "subprocess.call(['D://gmsh-3.0.6/gmsh','../results/Param_wing/u_est.msh','../results/Param_wing/u_est1.msh','../results/Param_wing/u_est2.msh','../results/Param_wing/tau_u.msh','-open'])\n",
    "subprocess.call(['D://gmsh-3.0.6/gmsh','../results/Param_wing/result_VM_iter.msh','-open'])"
   ]
  }
 ],
 "metadata": {
  "kernelspec": {
   "display_name": "Python 2",
   "language": "python",
   "name": "python2"
  }
 },
 "nbformat": 4,
 "nbformat_minor": 2
}
